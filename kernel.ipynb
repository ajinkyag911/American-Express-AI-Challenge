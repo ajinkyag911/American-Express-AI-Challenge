{
  "cells": [
    {
      "metadata": {
        "_uuid": "8f2839f25d086af736a60e9eeb907d3b93b6e0e5",
        "_cell_guid": "b1076dfc-b9ad-4769-8c92-a6c4dae69d19",
        "trusted": true,
        "collapsed": true
      },
      "cell_type": "code",
      "source": "# This Python 3 environment comes with many helpful analytics libraries installed\n# It is defined by the kaggle/python docker image: https://github.com/kaggle/docker-python\n# For example, here's several helpful packages to load in \nimport xgboost as xgb\nimport numpy as np # linear algebra\nimport pandas as pd # data processing, CSV file I/O (e.g. pd.read_csv)\nfrom sklearn.cross_validation import train_test_split\nfrom sklearn.linear_model import LogisticRegression\nfrom sklearn.cross_validation import KFold, cross_val_score\nfrom sklearn.metrics import confusion_matrix,precision_recall_curve,auc,roc_auc_score,roc_curve,recall_score,classification_report\nfrom sklearn import preprocessing, neighbors\nfrom sklearn.ensemble import (RandomForestClassifier, AdaBoostClassifier, \n                              GradientBoostingClassifier, ExtraTreesClassifier)\nimport matplotlib.pyplot as plt\nimport seaborn as sns\nfrom sklearn.svm import SVC\n# Input data files are available in the \"../input/\" directory.\n# For example, running this (by clicking run or pressing Shift+Enter) will list the files in the input directory\n\nimport os\nprint(os.listdir(\"../input\"))\n\n# Any results you write to the current directory are saved as output.",
      "execution_count": null,
      "outputs": []
    },
    {
      "metadata": {
        "_cell_guid": "79c7e3d0-c299-4dcb-8224-4455121ee9b0",
        "_uuid": "d629ff2d2480ee46fbb7e2d37f6b5fab8052498a",
        "trusted": true,
        "collapsed": true
      },
      "cell_type": "code",
      "source": "train = pd.read_csv('../input/train.csv',names=['key','V1','V2','V3','V4','V5','V6','V7','V8','V9','V10','V11','V12','V13','V14','V15','V16','V17','V18','V19','V20','V21','V22','V23','V24','V25','V26','V27','V28','V29','V30','V31','V32','V33','V34','V35','V36','V37','V38','V39','V40','V41','V42','V43','V44','V45','V46','V47','V48','V49','V50','V51','V52','V53','V54','label'])\n#train = pd.read_csv('../input/train.csv')\ntrain.set_index('key',inplace=True)\ntest = pd.read_csv('../input/test.csv',names=['key','V1','V2','V3','V4','V5','V6','V7','V8','V9','V10','V11','V12','V13','V14','V15','V16','V17','V18','V19','V20','V21','V22','V23','V24','V25','V26','V27','V28','V29','V30','V31','V32','V33','V34','V35','V36','V37','V38','V39','V40','V41','V42','V43','V44','V45','V46','V47','V48','V49','V50','V51','V52','V53','V54'])\nkeys = test['key']\ntest.set_index('key',inplace=True)\n#train.head().T\n#test.describe()",
      "execution_count": null,
      "outputs": []
    },
    {
      "metadata": {
        "trusted": true,
        "_uuid": "6f28f6f372d8f468bb6cae4ad29f51521538550f",
        "collapsed": true
      },
      "cell_type": "code",
      "source": "# Some useful parameters which will come in handy later on\nntrain = train.shape[0]\nntest = test.shape[0]\nSEED = 0 # for reproducibility\nNFOLDS = 5 # set folds for out-of-fold prediction\nkf = KFold(ntrain, n_folds= NFOLDS, random_state=SEED)\n\n# Class to extend the Sklearn classifier\nclass SklearnHelper(object):\n    def __init__(self, clf, seed=0, params=None):\n        params['random_state'] = seed\n        self.clf = clf(**params)\n\n    def train(self, x_train, y_train):\n        self.clf.fit(x_train, y_train)\n\n    def predict(self, x):\n        return self.clf.predict(x)\n    \n    def fit(self,x,y):\n        return self.clf.fit(x,y)\n    \n    def feature_importances(self,x,y):\n        print(self.clf.fit(x,y).feature_importances_)\n    \n# Class to extend XGboost classifer",
      "execution_count": null,
      "outputs": []
    },
    {
      "metadata": {
        "trusted": true,
        "_uuid": "4dce08a1c819678812cd9f6943e7c55f570d9510",
        "collapsed": true
      },
      "cell_type": "code",
      "source": "def get_oof(clf, x_train, y_train, x_test):\n    oof_train = np.zeros((ntrain,))\n    oof_test = np.zeros((ntest,))\n    oof_test_skf = np.empty((NFOLDS, ntest))\n\n    for i, (train_index, test_index) in enumerate(kf):\n        x_tr = x_train[train_index]\n        y_tr = y_train[train_index]\n        x_te = x_train[test_index]\n\n        clf.train(x_tr, y_tr)\n\n        oof_train[test_index] = clf.predict(x_te)\n        oof_test_skf[i, :] = clf.predict(x_test)\n\n    oof_test[:] = oof_test_skf.mean(axis=0)\n    return oof_train.reshape(-1, 1), oof_test.reshape(-1, 1)",
      "execution_count": null,
      "outputs": []
    },
    {
      "metadata": {
        "trusted": true,
        "_uuid": "47b5bd4e046d85cee0a1a175f618f9d729ed7af3",
        "collapsed": true
      },
      "cell_type": "code",
      "source": "rf_params = {\n    'n_jobs': -1,\n}\n\n# Extra Trees Parameters\net_params = {\n    'n_jobs': -1,\n}\n\n# AdaBoost parameters\nada_params = {\n    \n}\n\n# Gradient Boosting parameters\ngb_params = {\n}\n\n# Support Vector Classifier parameters \nsvc_params = {\n\n}\n\n# Create 5 objects that represent our 4 models\nrf = SklearnHelper(clf=RandomForestClassifier, seed=SEED, params=rf_params)\net = SklearnHelper(clf=ExtraTreesClassifier, seed=SEED, params=et_params)\nada = SklearnHelper(clf=AdaBoostClassifier, seed=SEED, params=ada_params)\ngb = SklearnHelper(clf=GradientBoostingClassifier, seed=SEED, params=gb_params)\n#svc = SklearnHelper(clf=SVC, seed=SEED, params=svc_params)",
      "execution_count": null,
      "outputs": []
    },
    {
      "metadata": {
        "trusted": true,
        "scrolled": true,
        "_uuid": "80529d90c3bf046afb0a03c853983202d52574d6",
        "collapsed": true
      },
      "cell_type": "code",
      "source": "# Create Numpy arrays of train, test and target ( Survived) dataframes to feed into our models\ny_train = train['label'].ravel()\ntrain = train.drop(['label'], axis=1)\nx_train = train.values # Creates an array of the train data\nx_test = test.values # Creats an array of the test data",
      "execution_count": null,
      "outputs": []
    },
    {
      "metadata": {
        "trusted": true,
        "_uuid": "40daf471428a8e78fa6aeab086d32e1e5fed380e",
        "collapsed": true
      },
      "cell_type": "code",
      "source": "# Create our OOF train and test predictions. These base results will be used as new features\net_oof_train, et_oof_test = get_oof(et, x_train, y_train, x_test) # Extra Trees\nprint(\"Extra trees done.\")\nrf_oof_train, rf_oof_test = get_oof(rf,x_train, y_train, x_test) # Random Forest\nprint(\"Random forest done.\")\nada_oof_train, ada_oof_test = get_oof(ada, x_train, y_train, x_test) # AdaBoost \nprint(\"Ada boost done.\")\ngb_oof_train, gb_oof_test = get_oof(gb,x_train, y_train, x_test) # Gradient Boost\nprint(\"Gradient boost done.\")\n#svc_oof_train, svc_oof_test = get_oof(svc,x_train, y_train, x_test) # Support Vector Classifier\n\nprint(\"Training is complete\")",
      "execution_count": null,
      "outputs": []
    },
    {
      "metadata": {
        "trusted": true,
        "_uuid": "04ecc74240d16b8dc9d8e6b818aac2ae4b474756",
        "collapsed": true
      },
      "cell_type": "code",
      "source": "rf_feature = rf.feature_importances(x_train,y_train)\net_feature = et.feature_importances(x_train, y_train)\nada_feature = ada.feature_importances(x_train, y_train)\ngb_feature = gb.feature_importances(x_train,y_train)",
      "execution_count": null,
      "outputs": []
    },
    {
      "metadata": {
        "trusted": true,
        "_uuid": "2dec6f7e15c0709141a6934b7753e9c26a3b8bbe",
        "collapsed": true
      },
      "cell_type": "code",
      "source": "rf_features = [2.29218640e-01, 5.07976113e-02, 3.45268299e-02, 6.07001194e-02,\n 5.88962786e-02, 1.23801514e-01, 4.05541285e-02, 4.43214848e-02,\n 4.26663136e-02, 1.16203955e-01, 1.03467189e-02, 4.83883956e-03,\n 1.10285082e-02, 2.15617204e-02, 5.33079539e-04, 5.98740082e-03,\n 1.13545246e-03, 5.32129940e-03, 1.96519738e-05, 6.96338842e-04,\n 4.91044098e-05, 3.68266888e-05, 1.82071560e-04, 3.20709622e-03,\n 4.18900432e-03, 1.93939203e-02, 6.43946687e-03, 1.30178408e-04,\n 7.51452553e-11, 9.22836763e-04, 1.16783856e-03, 3.65046008e-04,\n 9.81192727e-04, 2.34960309e-03, 8.44450755e-04, 1.33955859e-02,\n 7.21112145e-03, 4.77670285e-03, 3.20539043e-04, 7.58097005e-04,\n 9.46391963e-04, 3.37589245e-04, 1.26157665e-02, 6.17077222e-03,\n 4.59745624e-03, 6.14358450e-03, 5.17679236e-03, 8.04397217e-04,\n 6.86039295e-04, 3.67866175e-05, 6.63705389e-05, 1.34657142e-02,\n 1.19628155e-02, 7.11295559e-03]\net_features = [2.02558328e-01, 5.47304813e-02, 3.92140576e-02, 6.56113603e-02,\n 6.13014560e-02, 1.13233866e-01, 4.52391087e-02, 4.92659480e-02,\n 4.53725799e-02, 1.03476455e-01, 1.33060178e-02, 3.41038518e-03,\n 1.16080641e-02, 2.50276087e-02, 2.22770505e-04, 5.71476376e-03,\n 7.48418953e-04, 6.48405443e-03, 2.92312821e-04, 1.52008434e-03,\n 1.01622991e-04, 1.08205057e-04, 3.77631740e-04, 3.09734203e-03,\n 4.85255383e-03, 2.37612514e-02, 8.79480168e-03, 3.13807109e-04,\n 2.35968056e-08, 1.03799314e-03, 1.01662864e-03, 8.64318609e-04,\n 1.64415727e-03, 2.58828622e-03, 1.17149416e-03, 1.71843042e-02,\n 1.07995646e-02, 4.40935445e-03, 4.56030304e-04, 1.49068624e-03,\n 7.95395660e-04, 7.03595054e-04, 7.09328267e-03, 5.44152646e-03,\n 2.99063922e-03, 4.53557871e-03, 4.05038240e-03, 1.48303045e-03,\n 1.42507745e-03, 8.97843104e-05, 1.40375140e-04, 1.47458929e-02,\n 1.74928791e-02, 6.60438209e-03,]\nada_features = [0.36, 0.  , 0.  , 0.06, 0.02, 0.06, 0.02, 0.06, 0.02, 0.04, 0.  , 0.02, 0.  , 0. ,\n 0.02, 0.02, 0.02, 0.04, 0.  , 0.02, 0.  , 0.  , 0.  , 0.  , 0.  , 0.04, 0.  , 0. ,\n 0.  , 0.  , 0.02, 0.02, 0.  , 0.  , 0.02, 0.02, 0.02, 0.  , 0.  , 0.  , 0.  , 0. ,\n 0.02, 0.  , 0.  , 0.02, 0.  , 0.  , 0.  , 0.  , 0.  , 0.02, 0.02, 0.  ]\ngb_features = [3.16518586e-01, 1.55299478e-02, 2.22861667e-04, 7.62268577e-02,\n 1.38454699e-02, 1.20133008e-01, 8.38653816e-03, 5.17010171e-02,\n 3.66628456e-03, 7.61882799e-02, 2.36133390e-02, 1.69240724e-02,\n 1.40646274e-02, 0.00000000e+00, 0.00000000e+00, 3.10605869e-02,\n 0.00000000e+00, 3.42351898e-02, 0.00000000e+00, 0.00000000e+00,\n 0.00000000e+00, 0.00000000e+00, 0.00000000e+00, 0.00000000e+00,\n 0.00000000e+00, 2.23741571e-02, 2.59521344e-03, 0.00000000e+00,\n 0.00000000e+00, 0.00000000e+00, 1.34848210e-02, 0.00000000e+00,\n 0.00000000e+00, 7.82530779e-03, 7.76355290e-03, 2.69460268e-02,\n 2.54295116e-02, 0.00000000e+00, 1.94220415e-03, 0.00000000e+00,\n 2.43475182e-03, 0.00000000e+00, 1.52751191e-02, 6.04548681e-03,\n 1.06630852e-02, 1.59077264e-02, 9.70128724e-03, 8.41135958e-03,\n 0.00000000e+00, 0.00000000e+00, 0.00000000e+00, 7.61497903e-03,\n 1.32687440e-02, 0.00000000e+00]",
      "execution_count": null,
      "outputs": []
    },
    {
      "metadata": {
        "trusted": true,
        "collapsed": true,
        "_uuid": "59bc58c27024ac373ecf8b30def2b494227b2de1"
      },
      "cell_type": "code",
      "source": "cols = train.columns.values\n# Create a dataframe with features\nfeature_dataframe = pd.DataFrame( {'features': cols,\n     'Random Forest feature importances': rf_features,\n     'Extra Trees  feature importances': et_features,\n      'AdaBoost feature importances': ada_features,\n    'Gradient Boost feature importances': gb_features\n    })",
      "execution_count": null,
      "outputs": []
    },
    {
      "metadata": {
        "trusted": true,
        "_uuid": "cb3134e31fcfce2ca3570bc4daec6bf213f51249",
        "collapsed": true
      },
      "cell_type": "code",
      "source": "# Create the new column containing the average of values\n\nfeature_dataframe['mean'] = feature_dataframe.mean(axis= 1) # axis = 1 computes the mean row-wise\nfeature_dataframe.head(3)",
      "execution_count": null,
      "outputs": []
    },
    {
      "metadata": {
        "trusted": true,
        "_uuid": "500e3e9a6bb7070bb3867340454b95ddb5e0183e",
        "collapsed": true
      },
      "cell_type": "code",
      "source": "base_predictions_train = pd.DataFrame( {'RandomForest': rf_oof_train.ravel(),\n     'ExtraTrees': et_oof_train.ravel(),\n     'AdaBoost': ada_oof_train.ravel(),\n      'GradientBoost': gb_oof_train.ravel()\n    })\nbase_predictions_train.head()",
      "execution_count": null,
      "outputs": []
    },
    {
      "metadata": {
        "trusted": true,
        "_uuid": "5abc19d565f9bb5b379fccd21e7ea2110397ae26",
        "collapsed": true
      },
      "cell_type": "code",
      "source": "x_train = np.concatenate(( et_oof_train, rf_oof_train, ada_oof_train, gb_oof_train), axis=1)\nx_test = np.concatenate(( et_oof_test, rf_oof_test, ada_oof_test, gb_oof_test), axis=1)",
      "execution_count": null,
      "outputs": []
    },
    {
      "metadata": {
        "trusted": true,
        "_uuid": "f3f88121c9f847802f78b2666a2fa54d1f05414e",
        "collapsed": true
      },
      "cell_type": "code",
      "source": "gbm = xgb.XGBClassifier(\n    #learning_rate = 0.02,\n n_estimators= 2000,\n max_depth= 4,\n min_child_weight= 2,\n #gamma=1,\n gamma=0.9,                        \n subsample=0.8,\n colsample_bytree=0.8,\n objective= 'binary:logistic',\n nthread= -1,\n scale_pos_weight=1).fit(x_train, y_train)\npredictions = gbm.predict_proba(x_test)",
      "execution_count": null,
      "outputs": []
    },
    {
      "metadata": {
        "trusted": true,
        "_uuid": "c3f1143f5d062c867bc8cfff47635cbbab3cdc61",
        "collapsed": true
      },
      "cell_type": "code",
      "source": "# Generate Submission File \nprint(predictions[:,0])\nStackingSubmission = pd.DataFrame({ 'key': keys,\n                            'score': predictions[:,1] })\nStackingSubmission.to_csv(\"StackingSubmission.csv\",index = False)",
      "execution_count": null,
      "outputs": []
    },
    {
      "metadata": {
        "trusted": true,
        "collapsed": true,
        "_uuid": "ef6d87079a0865eec3b479ee837c606839c89485"
      },
      "cell_type": "code",
      "source": "",
      "execution_count": null,
      "outputs": []
    }
  ],
  "metadata": {
    "kernelspec": {
      "display_name": "Python 3",
      "language": "python",
      "name": "python3"
    },
    "language_info": {
      "name": "python",
      "version": "3.6.4",
      "mimetype": "text/x-python",
      "codemirror_mode": {
        "name": "ipython",
        "version": 3
      },
      "pygments_lexer": "ipython3",
      "nbconvert_exporter": "python",
      "file_extension": ".py"
    }
  },
  "nbformat": 4,
  "nbformat_minor": 1
}